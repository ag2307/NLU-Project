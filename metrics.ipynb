{
 "cells": [
  {
   "cell_type": "code",
   "execution_count": 3,
   "metadata": {},
   "outputs": [],
   "source": [
    "import pandas as pd\n",
    "import numpy as np"
   ]
  },
  {
   "cell_type": "code",
   "execution_count": null,
   "metadata": {},
   "outputs": [],
   "source": [
    "# IMDB\n",
    "df_gen = pd.read_json('/content/sst-2_train.json')\n",
    "obj = pd.read_json('/content/imdb_dev.jsonl', lines=True)\n",
    "obj.drop(columns='id')\n",
    "df_gen = df_gen.replace({'label':{0:'generated_0', 1:'generated_1'}})\n",
    "obj = obj.replace({'label':{0:'original_0', 1:'original_1'}})\n",
    "df = pd.concat([df_gen.sample(1000),obj.sample(1000)])\n",
    "df"
   ]
  },
  {
   "cell_type": "code",
   "execution_count": null,
   "metadata": {},
   "outputs": [],
   "source": [
    "# Hyperpartisan Politics\n",
    "df_gen_true = pd.read_json('/content/hyperpartisan_news_true_500_sorted.json')\n",
    "df_gen_false = pd.read_json('/content/hyperpartisan_news_false_500_sorted.json')\n",
    "obj = pd.read_json('train.jsonl', lines=True)\n",
    "obj = obj.iloc[:, ::-1].drop(columns='id')\n",
    "df_gen = pd.concat([df_gen_true, df_gen_false])\n",
    "df_gen = df_gen.replace({'label':{'true':'generated_true', 'false':'generated_false'}})\n",
    "obj = obj.replace({'label':{'true':'original_true', 'false':'original_false'}})\n",
    "df = pd.concat([df_gen,obj])"
   ]
  },
  {
   "cell_type": "code",
   "execution_count": null,
   "metadata": {},
   "outputs": [],
   "source": [
    "# Hyperpartisan News\n",
    "df_gen_true = pd.read_json('/content/hyperpartisan_news_true_500_sorted (1).json')\n",
    "df_gen_false = pd.read_json('/content/hyperpartisan_news_false_100_sorted_v1.json')\n",
    "obj = pd.read_json('train.jsonl', lines=True)\n",
    "obj = obj.iloc[:, ::-1].drop(columns='id')\n",
    "df_gen = pd.concat([df_gen_true, df_gen_false])\n",
    "df_gen = df_gen.replace({'label':{'true':'generated_true', 'false':'generated_false'}})\n",
    "obj = obj.replace({'label':{'true':'original_true', 'false':'original_false'}})\n",
    "df = pd.concat([df_gen,obj])\n",
    "df"
   ]
  },
  {
   "cell_type": "code",
   "execution_count": null,
   "metadata": {},
   "outputs": [],
   "source": [
    "# RCT\n",
    "df_gen_conclusion = pd.read_json('/content/rct_Conclusions_500.json')\n",
    "df_gen_method =  pd.read_json('/content/rct_METHODS_100.json')\n",
    "df_rct = pd.read_json('/content/dev.jsonl', lines=True)\n",
    "df_rct = df_rct.iloc[:, ::-1].drop(columns='metadata')\n",
    "df_gen_rct = pd.concat([df_gen_conclusion.sample(100), df_gen_method])\n",
    "df_gen_rct = df_gen_rct.replace({'label':{'Conclusions':'generated_Conclusions', 'METHODS':'generated_Methods'}})\n",
    "df_rct = pd.concat([df_rct[df_rct['label'] == 'CONCLUSIONS'].sample(100), df_rct[df_rct['label'] == 'METHODS'].sample(100)])\n",
    "df = df_rct.replace({'label':{'CONCLUSIONS':'original_Conclusions', 'METHODS':'original_Methods'}})\n",
    "df_RCT = pd.concat([df_gen_rct, df_rct])\n",
    "df_RCT"
   ]
  },
  {
   "cell_type": "code",
   "execution_count": null,
   "metadata": {},
   "outputs": [],
   "source": [
    "# Amazon\n",
    "\n",
    "obj = pd.read_json('/content/amazon_dev.jsonl', lines=True)\n",
    "obj = obj.drop(columns='id')\n",
    "df_gen = pd.read_json('/content/amazon_train.json')\n",
    "df_gen = df_gen.replace({'label':{'Helpful':'generated_helpful', 'Unhelpful':'generated_unhelpful'}})\n",
    "obj = obj.replace({'label':{'helpful':'original_helpful', 'unhelpful':'original_unhelpful'}})\n",
    "df = pd.concat([df_gen,obj.sample(600)])\n",
    "df"
   ]
  },
  {
   "cell_type": "code",
   "execution_count": null,
   "metadata": {},
   "outputs": [],
   "source": [
    "def featurize(data_df, tokenizer, vocab, max_seq_length=128):\n",
    "    vocab_to_idx = {word: i for i, word in enumerate(vocab)}\n",
    "    text_data = []\n",
    "    label_data = []\n",
    "    for row in tqdm.tqdm_notebook(data_df.itertuples(), total=len(data_df)):\n",
    "        tokenized = tokenizer.tokenize(row.text.lower())\n",
    "        if len(tokenized) < max_seq_length:\n",
    "            # pad each input sequence to the maximum sequence length\n",
    "            tokenized += [PAD_TOKEN] * (max_seq_length - len(tokenized))\n",
    "        tokenized = tokenized[:max_seq_length]\n",
    "        ids = [vocab_to_idx.get(token, 0) for token in tokenized]\n",
    "        text_data.append(ids)\n",
    "        label_data.append(row.label)\n",
    "    return np.array(text_data), np.array(label_data)\n",
    "\n",
    "tokenizer = sacremoses.MosesTokenizer()\n",
    "text, labels = featurize(df, tokenizer, vocab)"
   ]
  },
  {
   "cell_type": "code",
   "execution_count": null,
   "metadata": {},
   "outputs": [],
   "source": [
    "text_embed = []\n",
    "\n",
    "for sentence in text:\n",
    "    sentence_embed = []\n",
    "    for word in sentence:\n",
    "        word_embed = embeddings[word]\n",
    "        sentence_embed.append(word_embed)\n",
    "    text_embed.append(sentence_embed)\n",
    "text_embedding = np.array(text_embed)\n",
    "average = np.mean(text_embedding, axis=1)\n",
    "average"
   ]
  },
  {
   "cell_type": "code",
   "execution_count": 18,
   "metadata": {},
   "outputs": [],
   "source": [
    "from sklearn.feature_extraction.text import CountVectorizer\n",
    "from sklearn.feature_extraction.text import TfidfVectorizer\n",
    "count_vect = CountVectorizer()\n",
    "tfidf = TfidfVectorizer()\n",
    "\n",
    "X_train_counts = count_vect.fit_transform(x_df.text)\n",
    "X = tfidf.fit_transform(x_df.text)\n",
    "y=x_df.set"
   ]
  },
  {
   "cell_type": "code",
   "execution_count": 19,
   "metadata": {},
   "outputs": [
    {
     "name": "stdout",
     "output_type": "stream",
     "text": [
      "Requirement already satisfied: yellowbrick in c:\\users\\victor cui\\appdata\\local\\programs\\python\\python36\\lib\\site-packages (1.3.post1)\n",
      "Requirement already satisfied: cycler>=0.10.0 in c:\\users\\victor cui\\appdata\\local\\programs\\python\\python36\\lib\\site-packages (from yellowbrick) (0.10.0)\n",
      "Requirement already satisfied: scipy>=1.0.0 in c:\\users\\victor cui\\appdata\\local\\programs\\python\\python36\\lib\\site-packages (from yellowbrick) (1.4.1)\n",
      "Requirement already satisfied: numpy<1.20,>=1.16.0 in c:\\users\\victor cui\\appdata\\local\\programs\\python\\python36\\lib\\site-packages (from yellowbrick) (1.18.3)\n",
      "Requirement already satisfied: scikit-learn>=0.20 in c:\\users\\victor cui\\appdata\\local\\programs\\python\\python36\\lib\\site-packages (from yellowbrick) (0.22.2.post1)\n",
      "Requirement already satisfied: matplotlib!=3.0.0,>=2.0.2 in c:\\users\\victor cui\\appdata\\local\\programs\\python\\python36\\lib\\site-packages (from yellowbrick) (3.2.1)\n",
      "Requirement already satisfied: six in c:\\users\\victor cui\\appdata\\local\\programs\\python\\python36\\lib\\site-packages (from cycler>=0.10.0->yellowbrick) (1.14.0)\n",
      "Requirement already satisfied: python-dateutil>=2.1 in c:\\users\\victor cui\\appdata\\local\\programs\\python\\python36\\lib\\site-packages (from matplotlib!=3.0.0,>=2.0.2->yellowbrick) (2.8.1)\n",
      "Requirement already satisfied: pyparsing!=2.0.4,!=2.1.2,!=2.1.6,>=2.0.1 in c:\\users\\victor cui\\appdata\\local\\programs\\python\\python36\\lib\\site-packages (from matplotlib!=3.0.0,>=2.0.2->yellowbrick) (2.4.7)\n",
      "Requirement already satisfied: kiwisolver>=1.0.1 in c:\\users\\victor cui\\appdata\\local\\programs\\python\\python36\\lib\\site-packages (from matplotlib!=3.0.0,>=2.0.2->yellowbrick) (1.2.0)\n",
      "Requirement already satisfied: joblib>=0.11 in c:\\users\\victor cui\\appdata\\local\\programs\\python\\python36\\lib\\site-packages (from scikit-learn>=0.20->yellowbrick) (0.14.1)\n"
     ]
    }
   ],
   "source": [
    "!pip install yellowbrick"
   ]
  },
  {
   "cell_type": "code",
   "execution_count": 22,
   "metadata": {},
   "outputs": [
    {
     "name": "stderr",
     "output_type": "stream",
     "text": [
      "'c' argument looks like a single numeric RGB or RGBA sequence, which should be avoided as value-mapping will have precedence in case its length matches with 'x' & 'y'.  Please use a 2-D array with a single row if you really want to specify the same RGB or RGBA value for all points.\n",
      "'c' argument looks like a single numeric RGB or RGBA sequence, which should be avoided as value-mapping will have precedence in case its length matches with 'x' & 'y'.  Please use a 2-D array with a single row if you really want to specify the same RGB or RGBA value for all points.\n"
     ]
    },
    {
     "data": {
      "image/png": "[encoded data removed]",
      "text/plain": [
       "<Figure size 576x396 with 1 Axes>"
      ]
     },
     "metadata": {},
     "output_type": "display_data"
    },
    {
     "data": {
      "text/plain": [
       "<matplotlib.axes._subplots.AxesSubplot at 0x1a3adb735c0>"
      ]
     },
     "execution_count": 22,
     "metadata": {},
     "output_type": "execute_result"
    }
   ],
   "source": [
    "from yellowbrick.text import TSNEVisualizer\n",
    "\n",
    "tsne = TSNEVisualizer()\n",
    "tsne.fit(average, labels)\n",
    "tsne.show()"
   ]
  },
  {
   "cell_type": "code",
   "execution_count": 24,
   "metadata": {},
   "outputs": [],
   "source": [
    "from nltk.translate.bleu_score import SmoothingFunction, corpus_bleu, sentence_bleu\n",
    "\n",
    "\n",
    "def bleu(ref, gen):\n",
    "    ''' \n",
    "    calculate pair wise bleu score. uses nltk implementation\n",
    "    Args:\n",
    "        references : a list of reference sentences \n",
    "        candidates : a list of candidate(generated) sentences\n",
    "    Returns:\n",
    "        bleu score(float)\n",
    "    '''\n",
    "    ref_bleu = []\n",
    "    gen_bleu = []\n",
    "    for l in gen:\n",
    "        gen_bleu.append(l.split())\n",
    "    for i,l in enumerate(ref):\n",
    "        ref_bleu.append([l.split()])\n",
    "    cc = SmoothingFunction()\n",
    "    score_bleu = corpus_bleu(ref_bleu, gen_bleu, weights=(0, 1, 0, 0), smoothing_function=cc.method4)\n",
    "    return score_bleu"
   ]
  },
  {
   "cell_type": "code",
   "execution_count": 25,
   "metadata": {},
   "outputs": [
    {
     "data": {
      "text/plain": [
       "0.0017888189081306362"
      ]
     },
     "execution_count": 25,
     "metadata": {},
     "output_type": "execute_result"
    }
   ],
   "source": [
    "bleu(Methods_df.text,gen_df.text)"
   ]
  }
 ],
 "metadata": {
  "kernelspec": {
   "display_name": "Python 3",
   "language": "python",
   "name": "python3"
  },
  "language_info": {
   "codemirror_mode": {
    "name": "ipython",
    "version": 3
   },
   "file_extension": ".py",
   "mimetype": "text/x-python",
   "name": "python",
   "nbconvert_exporter": "python",
   "pygments_lexer": "ipython3",
   "version": "3.6.7"
  }
 },
 "nbformat": 4,
 "nbformat_minor": 5
}
